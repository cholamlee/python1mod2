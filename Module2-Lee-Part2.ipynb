{
 "cells": [
  {
   "cell_type": "markdown",
   "metadata": {},
   "source": [
    "## Exercises\n",
    "### Write the pseudocode for these problems. \n",
    "\n",
    "#### Define the problem by constructing an IPO diagram showing input, output, and processing steps\n",
    "Ask yourself\n",
    "- What control structures (sequence, selection and repetition) are required?\n",
    "- What variables are required?\n",
    "\n",
    "Show a check of your solution with **test data** for at least **two valid test cases**\n",
    "If you use the numbers provided in the example then the correct pseudocode will calculate the same result.\n",
    "    "
   ]
  },
  {
   "cell_type": "markdown",
   "metadata": {},
   "source": [
    "#### 1. Daily Process\n",
    "Every day, a researcher receives 15 measurements. He needs a program written that will accept each measurement and convert it to its metric equivalent (from inches to millimeters). The result shall display on the monitor. After all 15 measurements are entered, the words \"All measurements processed\" shall be displayed on the screen."
   ]
  },
  {
   "cell_type": "code",
   "execution_count": null,
   "metadata": {},
   "outputs": [],
   "source": [
    "    BEGIN\n",
    "        Loop 15 times\n",
    "            Input inchMeas\n",
    "            meterMeas = float(inchMeas) * 0.0254\n",
    "            print meterMeas\n",
    "        print (\"All measurements processed\")\n",
    "    END"
   ]
  },
  {
   "cell_type": "markdown",
   "metadata": {},
   "source": [
    "#### 2. Elictricity Usage Report\n",
    "An electricity supply authority records on an electricity usage file the amount of electricity that each customer uses.\n",
    "\n",
    "This file consists of:\n",
    "\n",
    "    1. a header record (first record), which provides the total kilowatt hours used during the month by all customers\n",
    "    2. a number of detail records, each containing the customer number, customer name and electricity usage (in kilowatt hours) for the month.\n",
    "    \n",
    "Design a solution algorithm that will read the electricity usage file and produce an electricity usage report showing the customer number, customer name, electricity usage and the amount owing. The amount owing is calculated at 11 cents for each kilowatt hour used, up to 200 hours, and 8 cents for each kilowatt hour used over 200 hours.\n",
    "\n",
    "The report should also display the total electricity usage in kilowatt hours."
   ]
  },
  {
   "cell_type": "code",
   "execution_count": null,
   "metadata": {},
   "outputs": [],
   "source": [
    "    BEGIN\n",
    "        countCust = 0\n",
    "        Read hearder record\n",
    "        get totalKw\n",
    "        Loop until end of file\n",
    "            get custNum, custName, usedKw\n",
    "            countCust = countCust + 1\n",
    "            if usedKw > 200\n",
    "               amtOwed = (200 * 0.11) + ((usedKw-200) * 0.08)\n",
    "            else\n",
    "               amtOwed = usedKw * 0.11\n",
    "            endif\n",
    "            print custNum, custName, usedKw, amtOwed\n",
    "        \n",
    "        print countCust, totalKw\n",
    "            \n",
    "    END"
   ]
  },
  {
   "cell_type": "markdown",
   "metadata": {},
   "source": [
    "#### 3. Calculate Fence Cost \n",
    "You've just been hired by Alton's Hardware Store. Your job is to develop a tool which will allow his customers to calculate the cost for installing a fence. Start by determining the algorithm to calculate the cost of installing the fence.\n",
    "\n",
    "Create a program that will calculate the cost with tax of fencing a rectangular yard. The cost of the fencing will depend on the amount of fencing required (the perimeter of the yard), and the type of fencing used. Gates can are available for an additional cost.At least one gate is required.\n",
    "\n",
    "Prices (including installation):\n",
    "\n",
    "    1. Wooden fencing costs 25 dollars per foot\n",
    "    2. Chain-link fencing costs 15 dollars per foot\n",
    "    3. Gates cost 150 dollars each. You must install at least one gate and can install up to 3    \n",
    "    4. A building permit is required. It costs 50 dollars\n",
    "    5. The tax rate is 6.0% but it doesn't apply to the building permit"
   ]
  },
  {
   "cell_type": "code",
   "execution_count": null,
   "metadata": {},
   "outputs": [],
   "source": [
    "    BEGIN\n",
    "        gateCost = 150\n",
    "        buildPermit = 50\n",
    "        taxFactpor = 1.06\n",
    "        Input fenceType  # 'wood' or 'chain'\n",
    "        Input fenceLength\n",
    "        Input gateNum\n",
    "        if fenceType = 'wood'\n",
    "           costFence = 25\n",
    "        else\n",
    "           costFence = 15\n",
    "        endif\n",
    "           totalCost = (((costFence * fenceLength) + (gateCost * gateNum)) * taxFactor) + buildPermit\n",
    "        print totalCost    \n",
    "    END"
   ]
  }
 ],
 "metadata": {
  "kernelspec": {
   "display_name": "Python 3 (ipykernel)",
   "language": "python",
   "name": "python3"
  },
  "language_info": {
   "codemirror_mode": {
    "name": "ipython",
    "version": 3
   },
   "file_extension": ".py",
   "mimetype": "text/x-python",
   "name": "python",
   "nbconvert_exporter": "python",
   "pygments_lexer": "ipython3",
   "version": "3.11.5"
  }
 },
 "nbformat": 4,
 "nbformat_minor": 2
}
